{
 "cells": [
  {
   "cell_type": "code",
   "execution_count": 2,
   "metadata": {},
   "outputs": [],
   "source": [
    "#libraries to perform webscraping\n",
    "\n",
    "from urllib.request import urlopen\n",
    "from bs4 import BeautifulSoup # used to extract data from the html page"
   ]
  },
  {
   "cell_type": "code",
   "execution_count": 3,
   "metadata": {},
   "outputs": [],
   "source": [
    "# specifying url for the page, and open the html using urlopen() method\n",
    "\n",
    "url = \"https://www.sourcewell-mn.gov/cooperative-purchasing/022217-wex#tab-contract-documents\"\n",
    "html = urlopen(url)"
   ]
  },
  {
   "cell_type": "code",
   "execution_count": 4,
   "metadata": {},
   "outputs": [],
   "source": [
    "import json,urllib.request\n",
    "import urllib.parse\n",
    "import re\n",
    "data = urllib.request.urlopen(\"https://www.sourcewell-mn.gov/cooperative-purchasing/022217-wex\").read()\n"
   ]
  },
  {
   "cell_type": "code",
   "execution_count": 5,
   "metadata": {},
   "outputs": [
    {
     "data": {
      "text/plain": [
       "bs4.BeautifulSoup"
      ]
     },
     "execution_count": 5,
     "metadata": {},
     "output_type": "execute_result"
    }
   ],
   "source": [
    "#parse the page using BeautifulSoup() function which returns python object of type bs4.BeautifulSoup()\n",
    "\n",
    "soup = BeautifulSoup(data, 'lxml')\n",
    "type(soup)\n"
   ]
  },
  {
   "cell_type": "code",
   "execution_count": 57,
   "metadata": {},
   "outputs": [
    {
     "name": "stdout",
     "output_type": "stream",
     "text": [
      "{'title': 'Fleet GPS & Telematics', 'contract_number': '022217-WEX', 'expiration': '06/01/2021', 'files': [{'contract-forms': 'https://www.sourcewell-mn.gov/sites/default/files/2018-05/WEX%20Contract%20022217.pdf'}], 'vendor': {'name': 'WEX', 'contacts': [{'name': 'Denise Baumgart', 'phone': '888-842-0075 ', 'email': 'denise.baumgart@wexinc.com'}]}}\n"
     ]
    }
   ],
   "source": [
    "import requests\n",
    "\n",
    "response = requests.get(\"https://www.sourcewell-mn.gov/cooperative-purchasing/022217-wex\")\n",
    "html1 = response.content\n",
    "soup = BeautifulSoup(html1)\n",
    "result = {}\n",
    "vendor = {}\n",
    "\n",
    "for contract in soup.find_all('div', class_='vendor-contract-header__content'):\n",
    "    title = contract.find('p', class_='lead').text\n",
    "    contract_number = contract.find_all('p')[1].text\n",
    "    result[\"title\"] = title\n",
    "    result[\"contract_number\"] = contract_number.split()[0][1:]\n",
    "    result[\"expiration\"] = contract_number.split()[3]\n",
    "    vendor[\"name\"] = contract.find('h1').text\n",
    "    \n",
    "files = []\n",
    "contracts = soup.find('div',id ='tab-contract-documents').find_all('div', class_='field--item')[1].find('a').get('href')\n",
    "file_obj = {}\n",
    "file_obj[\"contract-forms\"] = contracts\n",
    "files.append(file_obj)\n",
    "result[\"files\"] = files\n",
    "\n",
    "contacts = []\n",
    "contacts_obj = {}\n",
    "contacts_obj[\"name\"] = soup.find('div', id = 'tab-contact-information').find_all('article', role = 'article')[0].find('div').find_all('div')[0].strong.text\n",
    "contacts_obj[\"phone\"] = soup.find('div', id = 'tab-contact-information').find_all('article', role = 'article')[0].find('div').find_all('div', class_= \"field field--label-inline\")[0].find('div', class_='field--item').text\n",
    "contacts_obj[\"email\"] = soup.find('div', id = 'tab-contact-information').find_all('article', role = 'article')[0].find('div').find_all('div', class_= \"field field--label-inline\")[1].find('div', class_='field--item').text\n",
    "contacts.append(contacts_obj)\n",
    "vendor[\"contacts\"] = contacts\n",
    "result[\"vendor\"] = vendor\n",
    "\n",
    "print(result)\n",
    "\n"
   ]
  },
  {
   "cell_type": "code",
   "execution_count": 59,
   "metadata": {},
   "outputs": [
    {
     "name": "stdout",
     "output_type": "stream",
     "text": [
      "{\n",
      "  \"title\": \"Fleet GPS & Telematics\",\n",
      "  \"contract_number\": \"022217-WEX\",\n",
      "  \"expiration\": \"06/01/2021\",\n",
      "  \"files\": [\n",
      "    {\n",
      "      \"contract-forms\": \"https://www.sourcewell-mn.gov/sites/default/files/2018-05/WEX%20Contract%20022217.pdf\"\n",
      "    }\n",
      "  ],\n",
      "  \"vendor\": {\n",
      "    \"name\": \"WEX\",\n",
      "    \"contacts\": [\n",
      "      {\n",
      "        \"name\": \"Denise Baumgart\",\n",
      "        \"phone\": \"888-842-0075 \",\n",
      "        \"email\": \"denise.baumgart@wexinc.com\"\n",
      "      }\n",
      "    ]\n",
      "  }\n",
      "}\n"
     ]
    }
   ],
   "source": [
    "import json\n",
    "\n",
    "print(json.dumps(result, indent = 2))"
   ]
  },
  {
   "cell_type": "code",
   "execution_count": null,
   "metadata": {},
   "outputs": [],
   "source": []
  }
 ],
 "metadata": {
  "kernelspec": {
   "display_name": "Python 3",
   "language": "python",
   "name": "python3"
  },
  "language_info": {
   "codemirror_mode": {
    "name": "ipython",
    "version": 3
   },
   "file_extension": ".py",
   "mimetype": "text/x-python",
   "name": "python",
   "nbconvert_exporter": "python",
   "pygments_lexer": "ipython3",
   "version": "3.7.1"
  }
 },
 "nbformat": 4,
 "nbformat_minor": 2
}
